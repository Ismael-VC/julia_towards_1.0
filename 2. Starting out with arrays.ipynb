{
 "cells": [
  {
   "cell_type": "markdown",
   "metadata": {},
   "source": [
    "# Arrays and views"
   ]
  },
  {
   "cell_type": "markdown",
   "metadata": {},
   "source": [
    "Julia has excellent functionality for manipulating arrays and for linear algebra. We will have a quick look at this subject, which is much more complicated than you might suspect; see e.g. the talk on \"Taking vector transposes seriously\"."
   ]
  },
  {
   "cell_type": "markdown",
   "metadata": {},
   "source": [
    "Let's define a 2x2 array (matrix):"
   ]
  },
  {
   "cell_type": "code",
   "execution_count": 2,
   "metadata": {},
   "outputs": [
    {
     "data": {
      "text/plain": [
       "3×3 Array{Int64,2}:\n",
       " 1  2  3\n",
       " 4  5  6\n",
       " 7  8  9"
      ]
     },
     "execution_count": 2,
     "metadata": {},
     "output_type": "execute_result"
    }
   ],
   "source": [
    "M = [1 2 3; 4 5 6; 7 8 9]  # a 3x3 matrix"
   ]
  },
  {
   "cell_type": "code",
   "execution_count": 3,
   "metadata": {},
   "outputs": [
    {
     "data": {
      "text/plain": [
       "Array{Int64,2}"
      ]
     },
     "execution_count": 3,
     "metadata": {},
     "output_type": "execute_result"
    }
   ],
   "source": [
    "typeof(M)"
   ]
  },
  {
   "cell_type": "markdown",
   "metadata": {},
   "source": [
    "We can extract part of the matrix using indexing notation:"
   ]
  },
  {
   "cell_type": "code",
   "execution_count": 5,
   "metadata": {},
   "outputs": [
    {
     "data": {
      "text/plain": [
       "2×2 Array{Int64,2}:\n",
       " 4  5\n",
       " 7  8"
      ]
     },
     "execution_count": 5,
     "metadata": {},
     "output_type": "execute_result"
    }
   ],
   "source": [
    "part = M[2:3, 1:2]"
   ]
  },
  {
   "cell_type": "markdown",
   "metadata": {},
   "source": [
    "What happens if we modify `part`?"
   ]
  },
  {
   "cell_type": "code",
   "execution_count": 7,
   "metadata": {},
   "outputs": [
    {
     "data": {
      "text/plain": [
       "4"
      ]
     },
     "execution_count": 7,
     "metadata": {},
     "output_type": "execute_result"
    }
   ],
   "source": [
    "part[1, 1]"
   ]
  },
  {
   "cell_type": "code",
   "execution_count": 8,
   "metadata": {},
   "outputs": [
    {
     "data": {
      "text/plain": [
       "10"
      ]
     },
     "execution_count": 8,
     "metadata": {},
     "output_type": "execute_result"
    }
   ],
   "source": [
    "part[1, 1] = 10"
   ]
  },
  {
   "cell_type": "code",
   "execution_count": 9,
   "metadata": {},
   "outputs": [
    {
     "data": {
      "text/plain": [
       "2×2 Array{Int64,2}:\n",
       " 10  5\n",
       "  7  8"
      ]
     },
     "execution_count": 9,
     "metadata": {},
     "output_type": "execute_result"
    }
   ],
   "source": [
    "part"
   ]
  },
  {
   "cell_type": "code",
   "execution_count": 10,
   "metadata": {},
   "outputs": [
    {
     "data": {
      "text/plain": [
       "3×3 Array{Int64,2}:\n",
       " 1  2  3\n",
       " 4  5  6\n",
       " 7  8  9"
      ]
     },
     "execution_count": 10,
     "metadata": {},
     "output_type": "execute_result"
    }
   ],
   "source": [
    "M"
   ]
  },
  {
   "cell_type": "markdown",
   "metadata": {},
   "source": [
    "We see that `M` has *not* been modified: `part` was a **copy** of that part of `M`."
   ]
  },
  {
   "cell_type": "markdown",
   "metadata": {},
   "source": [
    "## Views"
   ]
  },
  {
   "cell_type": "markdown",
   "metadata": {},
   "source": [
    "We often do *not* want a copy, but rather just a reference to the same data, which is called a `view`: "
   ]
  },
  {
   "cell_type": "code",
   "execution_count": 17,
   "metadata": {},
   "outputs": [
    {
     "data": {
      "text/plain": [
       "2×2 SubArray{Int64,2,Array{Int64,2},Tuple{UnitRange{Int64},UnitRange{Int64}},false}:\n",
       " 4  5\n",
       " 7  8"
      ]
     },
     "execution_count": 17,
     "metadata": {},
     "output_type": "execute_result"
    }
   ],
   "source": [
    "V = view(M, 2:3, 1:2)"
   ]
  },
  {
   "cell_type": "code",
   "execution_count": 18,
   "metadata": {},
   "outputs": [
    {
     "data": {
      "text/plain": [
       "SubArray{Int64,2,Array{Int64,2},Tuple{UnitRange{Int64},UnitRange{Int64}},false}"
      ]
     },
     "execution_count": 18,
     "metadata": {},
     "output_type": "execute_result"
    }
   ],
   "source": [
    "typeof(V)"
   ]
  },
  {
   "cell_type": "markdown",
   "metadata": {},
   "source": [
    "Although this type looks complicated, it just contains the necessary information for the object to manipulate correctly the underlying data."
   ]
  },
  {
   "cell_type": "markdown",
   "metadata": {},
   "source": [
    "If we modify `V`, then `M` also gets modified, since it is the same data:"
   ]
  },
  {
   "cell_type": "code",
   "execution_count": 21,
   "metadata": {},
   "outputs": [
    {
     "data": {
      "text/plain": [
       "4"
      ]
     },
     "execution_count": 21,
     "metadata": {},
     "output_type": "execute_result"
    }
   ],
   "source": [
    "V[1, 1]"
   ]
  },
  {
   "cell_type": "code",
   "execution_count": 22,
   "metadata": {},
   "outputs": [
    {
     "data": {
      "text/plain": [
       "100"
      ]
     },
     "execution_count": 22,
     "metadata": {},
     "output_type": "execute_result"
    }
   ],
   "source": [
    "V[1, 1] = 100"
   ]
  },
  {
   "cell_type": "code",
   "execution_count": 23,
   "metadata": {},
   "outputs": [
    {
     "data": {
      "text/plain": [
       "2×2 SubArray{Int64,2,Array{Int64,2},Tuple{UnitRange{Int64},UnitRange{Int64}},false}:\n",
       " 100  5\n",
       "   7  8"
      ]
     },
     "execution_count": 23,
     "metadata": {},
     "output_type": "execute_result"
    }
   ],
   "source": [
    "V"
   ]
  },
  {
   "cell_type": "code",
   "execution_count": 24,
   "metadata": {},
   "outputs": [
    {
     "data": {
      "text/plain": [
       "3×3 Array{Int64,2}:\n",
       "   1  2  3\n",
       " 100  5  6\n",
       "   7  8  9"
      ]
     },
     "execution_count": 24,
     "metadata": {},
     "output_type": "execute_result"
    }
   ],
   "source": [
    "M"
   ]
  },
  {
   "cell_type": "markdown",
   "metadata": {},
   "source": [
    "We can also write"
   ]
  },
  {
   "cell_type": "code",
   "execution_count": 19,
   "metadata": {},
   "outputs": [
    {
     "data": {
      "text/plain": [
       "2×2 SubArray{Int64,2,Array{Int64,2},Tuple{UnitRange{Int64},UnitRange{Int64}},false}:\n",
       " 4  5\n",
       " 7  8"
      ]
     },
     "execution_count": 19,
     "metadata": {},
     "output_type": "execute_result"
    }
   ],
   "source": [
    "@view M[2:3, 1:2]"
   ]
  },
  {
   "cell_type": "markdown",
   "metadata": {},
   "source": [
    "for ease of use."
   ]
  },
  {
   "cell_type": "markdown",
   "metadata": {},
   "source": [
    "## In-place and vectorized operations: \"`.`\" (\"pointwise\")"
   ]
  },
  {
   "cell_type": "markdown",
   "metadata": {},
   "source": [
    "Suppose we have two matrices and wish to add one to the other:"
   ]
  },
  {
   "cell_type": "code",
   "execution_count": 41,
   "metadata": {},
   "outputs": [],
   "source": [
    "A = rand(1000, 1000)\n",
    "B = rand(1000, 1000);"
   ]
  },
  {
   "cell_type": "markdown",
   "metadata": {},
   "source": [
    "Coming from other languages, we might expect to write `A += B`, and indeed this works:"
   ]
  },
  {
   "cell_type": "code",
   "execution_count": 42,
   "metadata": {},
   "outputs": [
    {
     "data": {
      "text/plain": [
       "1000×1000 Array{Float64,2}:\n",
       " 0.968928  1.32343   1.24209   0.872131  …  0.720564  0.388369  1.14116 \n",
       " 0.204676  0.421446  1.54268   0.566509     0.976438  1.10873   1.57093 \n",
       " 0.581773  0.199507  0.815626  1.15475      0.972806  0.828963  0.808414\n",
       " 1.13841   1.56143   0.746309  1.95236      0.115347  1.24063   0.72575 \n",
       " 1.19113   1.07349   0.553199  1.16877      1.72498   1.55993   0.822072\n",
       " 1.0875    1.462     1.4386    0.608865  …  0.982909  1.60436   0.439304\n",
       " 1.01382   0.684245  1.16893   0.945915     0.754567  1.52645   1.57565 \n",
       " 0.949518  0.58178   1.10361   1.02915      0.713869  0.713696  0.940816\n",
       " 0.998316  1.24432   0.311364  0.975239     0.542564  0.821899  0.749195\n",
       " 1.51759   1.41818   0.788877  0.463206     0.349169  1.31018   1.37438 \n",
       " 1.29745   0.763401  1.23604   1.598     …  0.88559   0.860827  0.438045\n",
       " 1.11474   1.13203   1.12227   0.400706     1.64049   0.387016  1.64967 \n",
       " 1.66822   0.693214  1.29294   0.393161     1.38031   0.559444  1.33583 \n",
       " ⋮                                       ⋱                              \n",
       " 0.838202  1.70018   0.41893   0.280845     1.29055   0.474071  1.09479 \n",
       " 0.95977   0.675577  0.818799  0.190845     0.447784  0.916352  1.48713 \n",
       " 1.49739   0.799683  1.01879   0.758699  …  0.818757  1.16753   0.963373\n",
       " 0.560452  0.476149  1.19015   0.563281     1.59943   1.19052   1.40458 \n",
       " 1.07261   1.74774   1.00025   1.11554      1.1954    0.989217  1.30886 \n",
       " 1.02111   1.33143   1.11198   0.778061     1.60481   0.57002   0.407612\n",
       " 1.27649   0.756616  1.25506   0.624961     1.54029   1.54714   0.397912\n",
       " 1.23289   1.3399    0.942584  0.886035  …  1.10159   0.981529  0.583152\n",
       " 0.728084  0.579867  0.839283  1.58817      0.835414  0.746607  0.300156\n",
       " 1.71664   1.01128   0.454812  0.524841     1.05736   0.965411  0.379331\n",
       " 1.13975   0.92568   1.61908   0.846408     1.23969   1.399     0.262173\n",
       " 1.28976   0.93883   0.894056  1.05075      1.49682   0.691285  0.955073"
      ]
     },
     "execution_count": 42,
     "metadata": {},
     "output_type": "execute_result"
    }
   ],
   "source": [
    "A += B"
   ]
  },
  {
   "cell_type": "markdown",
   "metadata": {},
   "source": [
    "This is just \"syntactic sugar\" (i.e. a cute way of writing) `A = A + B`."
   ]
  },
  {
   "cell_type": "markdown",
   "metadata": {},
   "source": [
    "However, it turns out that this does not do what you think it does, namely \"in-place addition\", in which each element of `A` is updated in place. Rather, it allocates a new temporary object for the result of `A + B`. We can see this:"
   ]
  },
  {
   "cell_type": "code",
   "execution_count": 43,
   "metadata": {},
   "outputs": [
    {
     "name": "stdout",
     "output_type": "stream",
     "text": [
      "  1.757 ms (2 allocations: 7.63 MiB)\n"
     ]
    },
    {
     "data": {
      "text/plain": [
       "1000×1000 Array{Float64,2}:\n",
       " 1.34548   1.78995   1.49163   1.4206    …  1.0518    0.552815  2.00633 \n",
       " 0.213293  0.798752  2.27662   0.687972     1.46436   1.7575    2.26951 \n",
       " 0.585912  0.28548   1.01223   2.09057      0.97898   0.99713   1.55843 \n",
       " 1.90392   2.50291   0.861714  2.9059       0.119474  1.48763   0.818001\n",
       " 1.81095   1.69645   1.09744   2.13924      2.46413   2.50837   1.14472 \n",
       " 1.25784   2.05733   1.94274   0.62532   …  1.24706   2.27125   0.576669\n",
       " 1.984     1.18045   1.87166   1.32362      1.18667   2.28369   2.28583 \n",
       " 1.21146   0.915668  1.61834   1.73474      0.965952  1.26704   1.06328 \n",
       " 1.15399   2.05755   0.341304  1.56319      1.04554   1.54696   1.48006 \n",
       " 2.07014   1.99058   1.45165   0.877347     0.3983    1.79719   2.29727 \n",
       " 2.07513   1.02964   2.02191   2.23425   …  0.976161  1.48534   0.871693\n",
       " 1.55057   1.41962   1.42887   0.546927     2.60417   0.650841  2.34986 \n",
       " 2.35675   1.24106   2.02715   0.578252     1.84711   0.721913  2.00956 \n",
       " ⋮                                       ⋱                              \n",
       " 0.912426  2.61827   0.603865  0.290843     1.96733   0.91265   1.49029 \n",
       " 1.47756   0.753159  1.59921   0.357526     0.675489  1.40104   2.29156 \n",
       " 2.13904   0.945959  1.7749    0.827649  …  1.3928    2.11396   1.55    \n",
       " 0.988604  0.638356  1.51276   0.758358     2.58261   1.83152   2.0887  \n",
       " 2.03749   2.67043   1.00514   1.32365      1.95039   1.75179   1.96542 \n",
       " 1.95326   2.08664   1.79739   1.53803      2.23112   1.02823   0.629742\n",
       " 1.65518   1.17462   1.78079   1.02013      2.30129   2.24178   0.757183\n",
       " 1.89395   1.9994    1.74728   1.14161   …  1.94019   1.04336   0.635527\n",
       " 1.44959   1.02795   1.6747    2.31325      1.15354   0.827057  0.378516\n",
       " 2.48583   1.79059   0.784044  0.822578     1.76061   1.3322    0.381941\n",
       " 1.87682   1.25993   2.38761   0.958786     1.92171   2.00157   0.515758\n",
       " 2.23191   1.72597   1.11027   1.89607      2.0873    1.11482   1.10357 "
      ]
     },
     "execution_count": 43,
     "metadata": {},
     "output_type": "execute_result"
    }
   ],
   "source": [
    "using BenchmarkTools\n",
    "\n",
    "@btime $A += $B;"
   ]
  },
  {
   "cell_type": "markdown",
   "metadata": {},
   "source": [
    "Note the large amount of allocation here (1,000,000 $\\times$ 8 bytes)"
   ]
  },
  {
   "cell_type": "markdown",
   "metadata": {},
   "source": [
    "The in-place behaviour can be obtained using **pointwise operators**:"
   ]
  },
  {
   "cell_type": "code",
   "execution_count": 44,
   "metadata": {},
   "outputs": [
    {
     "data": {
      "text/plain": [
       "1000×1000 Array{Float64,2}:\n",
       " 1.34548   1.78995   1.49163   1.4206    …  1.0518    0.552815  2.00633 \n",
       " 0.213293  0.798752  2.27662   0.687972     1.46436   1.7575    2.26951 \n",
       " 0.585912  0.28548   1.01223   2.09057      0.97898   0.99713   1.55843 \n",
       " 1.90392   2.50291   0.861714  2.9059       0.119474  1.48763   0.818001\n",
       " 1.81095   1.69645   1.09744   2.13924      2.46413   2.50837   1.14472 \n",
       " 1.25784   2.05733   1.94274   0.62532   …  1.24706   2.27125   0.576669\n",
       " 1.984     1.18045   1.87166   1.32362      1.18667   2.28369   2.28583 \n",
       " 1.21146   0.915668  1.61834   1.73474      0.965952  1.26704   1.06328 \n",
       " 1.15399   2.05755   0.341304  1.56319      1.04554   1.54696   1.48006 \n",
       " 2.07014   1.99058   1.45165   0.877347     0.3983    1.79719   2.29727 \n",
       " 2.07513   1.02964   2.02191   2.23425   …  0.976161  1.48534   0.871693\n",
       " 1.55057   1.41962   1.42887   0.546927     2.60417   0.650841  2.34986 \n",
       " 2.35675   1.24106   2.02715   0.578252     1.84711   0.721913  2.00956 \n",
       " ⋮                                       ⋱                              \n",
       " 0.912426  2.61827   0.603865  0.290843     1.96733   0.91265   1.49029 \n",
       " 1.47756   0.753159  1.59921   0.357526     0.675489  1.40104   2.29156 \n",
       " 2.13904   0.945959  1.7749    0.827649  …  1.3928    2.11396   1.55    \n",
       " 0.988604  0.638356  1.51276   0.758358     2.58261   1.83152   2.0887  \n",
       " 2.03749   2.67043   1.00514   1.32365      1.95039   1.75179   1.96542 \n",
       " 1.95326   2.08664   1.79739   1.53803      2.23112   1.02823   0.629742\n",
       " 1.65518   1.17462   1.78079   1.02013      2.30129   2.24178   0.757183\n",
       " 1.89395   1.9994    1.74728   1.14161   …  1.94019   1.04336   0.635527\n",
       " 1.44959   1.02795   1.6747    2.31325      1.15354   0.827057  0.378516\n",
       " 2.48583   1.79059   0.784044  0.822578     1.76061   1.3322    0.381941\n",
       " 1.87682   1.25993   2.38761   0.958786     1.92171   2.00157   0.515758\n",
       " 2.23191   1.72597   1.11027   1.89607      2.0873    1.11482   1.10357 "
      ]
     },
     "execution_count": 44,
     "metadata": {},
     "output_type": "execute_result"
    }
   ],
   "source": [
    "A .= A .+ B"
   ]
  },
  {
   "cell_type": "code",
   "execution_count": 45,
   "metadata": {},
   "outputs": [
    {
     "name": "stdout",
     "output_type": "stream",
     "text": [
      "  725.688 μs (4 allocations: 128 bytes)\n"
     ]
    },
    {
     "data": {
      "text/plain": [
       "1000×1000 Array{Float64,2}:\n",
       "  4304.94     5333.65   2853.48    …   3786.79     1880.01    9890.04  \n",
       "    98.6948   4313.03   8390.52        5577.88     7416.65    7986.29  \n",
       "    47.8988    982.864  2247.98          71.5438   1922.97    8573.52  \n",
       "  8750.85    10762.6    1319.82          47.2898   2824.45    1055.16  \n",
       "  7085.71     7121.46   6221.25        8450.19    10842.3     3688.7   \n",
       "  1948.09     6806.05   5763.76    …   3020.24     7624.17    1570.52  \n",
       " 11090.3      5672.31   8033.33        4939.69     8656.73    8119.04  \n",
       "  2994.99     3816.92   5884.44        2882.02     6325.49    1400.66  \n",
       "  1780.37     9296.46    342.526       5749.6      8288.25    8354.55  \n",
       "  6317.08     6544.0    7576.33         561.921    5567.8    10550.0   \n",
       "  8890.2      3043.9    8983.72    …   1036.11     7139.07    4957.04  \n",
       "  4982.6      3288.36   3505.58       11016.4      3015.9     8004.85  \n",
       "  7871.65     6262.57   8393.34        5336.95     1857.58    7702.03  \n",
       "     ⋮                             ⋱                                   \n",
       "   849.216   10495.5    2114.23        7736.79     5013.43    4521.58  \n",
       "  5919.3       887.431  8920.93        2603.12     5540.91    9196.14  \n",
       "  7335.56     1672.73   8643.32    …   6562.08    10818.8     6706.14  \n",
       "  4894.33     1854.51   3688.62       11239.3      7327.8     7821.0   \n",
       " 11029.6     10548.2      56.8608      8630.81     8717.18    7505.8   \n",
       " 10655.6      8633.34   7835.36        7160.36     5237.94    2539.35  \n",
       "  4329.74     4778.58   6010.41        8699.8      7941.33    4106.87  \n",
       "  7557.12     7539.4    9198.62    …   9586.35      707.661    599.229 \n",
       "  8247.58     5122.16   9549.71        3636.99      920.281    895.953 \n",
       "  8793.62     8908.52   3763.58        8039.2      4193.35      30.2039\n",
       "  8425.84     3821.44   8785.96        7796.77     6888.79    2898.74  \n",
       " 10770.1      8997.92   2472.21        6750.66     4841.65    1698.25  "
      ]
     },
     "execution_count": 45,
     "metadata": {},
     "output_type": "execute_result"
    }
   ],
   "source": [
    "@btime A .= A .+ B"
   ]
  },
  {
   "cell_type": "markdown",
   "metadata": {},
   "source": [
    "Furthermore, we can chain such operations together with no creation of temporaries:"
   ]
  },
  {
   "cell_type": "code",
   "execution_count": 46,
   "metadata": {},
   "outputs": [
    {
     "name": "stdout",
     "output_type": "stream",
     "text": [
      "  2.626 ms (6 allocations: 7.63 MiB)\n"
     ]
    },
    {
     "data": {
      "text/plain": [
       "1000×1000 Array{Float64,2}:\n",
       "  6871.03    7508.43   6151.07  10138.4    …   5878.45    4342.9   12620.3 \n",
       "  2263.17    5360.1   11577.1    2205.83       6958.22    9295.74  11218.5 \n",
       "   483.878   1856.49   3755.18  14813.2         115.145   2609.76  11516.7 \n",
       " 12125.8    14842.5    3490.5   15315.2        1769.31    5973.3    2211.09\n",
       "  9887.45   10989.5    9158.5   15452.5       12181.2    14525.2    6659.89\n",
       "  4005.47   10119.7    7320.63   2867.35   …   4612.68   10629.1    2402.8 \n",
       " 15877.0     7978.97  11259.8    5609.87       7807.92   12885.3   10213.0 \n",
       "  3712.99    5512.19   9497.4   11834.9        5358.9     8356.29   2570.53\n",
       "  4808.12   13984.4    2802.51  10297.9        7302.3    12307.5   11400.4 \n",
       "  8550.36    9887.78  11272.6    7755.13       2589.72    7357.38  13315.8 \n",
       " 11759.0     5040.06  13658.2    9208.91   …   1415.75    9477.93   6824.76\n",
       "  6539.19    5129.52   4796.1    2844.78      15438.9     5459.98  10899.8 \n",
       " 11661.3     8025.83  12628.0    2743.05       7688.21    3537.06  12018.3 \n",
       "     ⋮                                     ⋱                               \n",
       "  1106.47   15470.3    3031.61    402.599     10626.7     7440.7    6100.23\n",
       "  7767.79    3657.14  11380.5    4998.18       3760.89    7636.37  11771.3 \n",
       "  9542.27    3456.08  12703.7    2119.67   …  10647.8    13429.2    9560.11\n",
       "  6948.58    2784.56   5455.49   3626.64      16116.6    11139.4   11688.8 \n",
       " 14716.9    14898.9    1798.38   3948.06      11793.8    11835.0   10365.7 \n",
       " 14082.5    12158.9   10189.2   10738.9       10133.7     8790.72   4188.02\n",
       "  7361.62    6430.37   9345.51   5718.02      12580.7     9916.56   7173.24\n",
       " 10274.8    10737.2   12757.3    6275.07   …  12999.1     1966.33   1261.57\n",
       " 12584.0     6962.85  14061.5   11339.4        6769.08    1782.62   2151.44\n",
       " 11021.6    11192.8    5385.54   4746.39      10274.5     6732.53   2344.26\n",
       " 11228.7     5359.87  11204.4    3198.68      11777.5     9425.21   4045.69\n",
       " 15874.7    11702.4    5074.02  12084.7        8473.43    7120.01   3104.04"
      ]
     },
     "execution_count": 46,
     "metadata": {},
     "output_type": "execute_result"
    }
   ],
   "source": [
    "C = rand(1000, 1000)\n",
    "\n",
    "@btime A .+= B + C  # allocates"
   ]
  },
  {
   "cell_type": "code",
   "execution_count": 47,
   "metadata": {},
   "outputs": [
    {
     "name": "stdout",
     "output_type": "stream",
     "text": [
      "  1.128 ms (4 allocations: 160 bytes)\n"
     ]
    },
    {
     "data": {
      "text/plain": [
       "1000×1000 Array{Float64,2}:\n",
       " 14146.5   13674.5   15500.6   21106.7   …  11808.8    11325.8   20361.1 \n",
       "  8400.02   8328.81  20612.0    4522.03     10871.8    14623.4   20382.8 \n",
       "  1719.99   4333.43   8028.48  26482.2        238.767   4556.97  19861.2 \n",
       " 21694.6   26409.9    9644.93  27830.7       6651.68   14901.1    5488.46\n",
       " 17831.1   21956.4   17486.4   27811.0      22759.5    24967.1   15084.0 \n",
       "  9838.66  19514.7   11734.7   10462.1   …   9127.62   19148.9    4762.53\n",
       " 29448.8   14519.0   20407.8    9272.27     15940.1    24874.6   16150.0 \n",
       "  5748.72  10318.7   19741.1   22521.2      12381.5    14114.1    5887.41\n",
       " 13392.6   27275.9    9777.21  20438.6      11704.6    23703.1   20036.2 \n",
       " 14882.3   19368.3   21752.3   16320.5       8339.06   12431.3   21157.8 \n",
       " 19892.8   10699.7   26911.5   14695.3   …   2492.12   16109.2   12120.2 \n",
       " 10952.5   10349.7    8455.05   6170.75     27977.8    12389.6   19107.6 \n",
       " 22405.8   13025.1   24634.4    4520.95     14354.6     8298.81  24256.0 \n",
       "     ⋮                                   ⋱                               \n",
       "  1835.86  29574.9    5632.61   1219.27     18820.2    14322.6   10576.1 \n",
       " 13008.7   11510.0   18354.0   13767.1       7043.47   13577.5   19072.5 \n",
       " 15798.9    8512.33  24216.1    5892.89  …  22231.7    20830.2   17651.9 \n",
       " 12772.9    5421.51  10465.0    7585.66     29945.2    21946.2   22655.0 \n",
       " 25171.3   27234.2    6736.03   8394.34     20761.7    20674.9   18474.2 \n",
       " 23798.6   22154.6   16863.1   16556.0      18563.8    18863.8    8862.42\n",
       " 15957.8   11113.6   18801.4    9122.19     23584.0    15516.8   15867.2 \n",
       " 17980.1   19803.7   22847.1   15781.5   …  22675.1     5534.99   3139.46\n",
       " 24878.9   12181.7   26853.5   19987.5      15649.3     4227.59   5711.07\n",
       " 17338.4   17669.2    9984.19   8553.39     16611.9    13931.7    8905.21\n",
       " 19175.7    9721.73  18061.3    8623.52     23063.7    16616.6    7297.58\n",
       " 30347.7   19370.3   12450.8   18950.4      13357.9    13579.7    7089.79"
      ]
     },
     "execution_count": 47,
     "metadata": {},
     "output_type": "execute_result"
    }
   ],
   "source": [
    "@btime A .+= B .+ C  # does not allocate"
   ]
  },
  {
   "cell_type": "markdown",
   "metadata": {},
   "source": [
    "See [this blog post by Steven Johnson](https://julialang.org/blog/2017/01/moredots) for more details."
   ]
  },
  {
   "cell_type": "markdown",
   "metadata": {},
   "source": [
    "## Efficient small matrices and vectors"
   ]
  },
  {
   "cell_type": "markdown",
   "metadata": {},
   "source": [
    "For small matrices and vectors, the generic vector and matrix code is too slow, since the type does not contain the information on the number of elements contained in the array, so that generic loops are used.\n",
    "\n",
    "The `StaticArrays.jl` package fixes this problem by unrolling operations for small arrays."
   ]
  },
  {
   "cell_type": "code",
   "execution_count": 48,
   "metadata": {
    "collapsed": true
   },
   "outputs": [],
   "source": [
    "# Pkg.add(\"StaticArrays\")\n",
    "\n",
    "using StaticArrays, BenchmarkTools"
   ]
  },
  {
   "cell_type": "code",
   "execution_count": 25,
   "metadata": {},
   "outputs": [
    {
     "data": {
      "text/plain": [
       "bench (generic function with 1 method)"
      ]
     },
     "execution_count": 25,
     "metadata": {},
     "output_type": "execute_result"
    }
   ],
   "source": [
    "function bench()\n",
    "    x = SVector(1, 2)\n",
    "    y = [1, 2]\n",
    "    \n",
    "    @btime $x + $x\n",
    "    @btime $y + $y\n",
    "end"
   ]
  },
  {
   "cell_type": "code",
   "execution_count": 26,
   "metadata": {},
   "outputs": [
    {
     "name": "stdout",
     "output_type": "stream",
     "text": [
      "  1.380 ns (0 allocations: 0 bytes)\n",
      "  38.239 ns (1 allocation: 96 bytes)\n"
     ]
    },
    {
     "data": {
      "text/plain": [
       "2-element Array{Int64,1}:\n",
       " 2\n",
       " 4"
      ]
     },
     "execution_count": 26,
     "metadata": {},
     "output_type": "execute_result"
    }
   ],
   "source": [
    "bench()"
   ]
  },
  {
   "cell_type": "code",
   "execution_count": 28,
   "metadata": {},
   "outputs": [
    {
     "data": {
      "text/plain": [
       "CodeInfo(:(begin \n",
       "        nothing\n",
       "        nothing\n",
       "        return (StaticArrays.map)(StaticArrays.+, a, b)\n",
       "    end))"
      ]
     },
     "execution_count": 28,
     "metadata": {},
     "output_type": "execute_result"
    }
   ],
   "source": [
    "x = SVector(1, 2)\n",
    "@code_lowered x + x"
   ]
  },
  {
   "cell_type": "code",
   "execution_count": 29,
   "metadata": {},
   "outputs": [
    {
     "data": {
      "text/plain": [
       "CodeInfo(:(begin \n",
       "        SSAValue(4) = a\n",
       "        SSAValue(5) = b\n",
       "        $(Expr(:inbounds, false))\n",
       "        # meta: location /Users/dpsanders/.julia/v0.6/StaticArrays/src/mapreduce.jl map 10\n",
       "        SSAValue(2) = SSAValue(4)\n",
       "        SSAValue(3) = SSAValue(5)\n",
       "        # meta: location /Users/dpsanders/.julia/v0.6/StaticArrays/src/mapreduce.jl _map 14\n",
       "        # meta: location /Users/dpsanders/.julia/v0.6/StaticArrays/src/mapreduce.jl # line 23:\n",
       "        $(Expr(:inbounds, true))\n",
       "        #temp# = $(Expr(:new, SVector{2,Int64}, :((StaticArrays.tuple)((Base.add_int)((Base.getfield)((Core.getfield)(SSAValue(2), :data)::Tuple{Int64,Int64}, 1)::Int64, (Base.getfield)((Core.getfield)(SSAValue(3), :data)::Tuple{Int64,Int64}, 1)::Int64)::Int64, (Base.add_int)((Base.getfield)((Core.getfield)(SSAValue(2), :data)::Tuple{Int64,Int64}, 2)::Int64, (Base.getfield)((Core.getfield)(SSAValue(3), :data)::Tuple{Int64,Int64}, 2)::Int64)::Int64)::Tuple{Int64,Int64})))\n",
       "        goto 15\n",
       "        # meta: pop location\n",
       "        $(Expr(:inbounds, :pop))\n",
       "        15: \n",
       "        # meta: pop location\n",
       "        # meta: pop location\n",
       "        $(Expr(:inbounds, :pop))\n",
       "        return #temp#\n",
       "    end))=>SVector{2,Int64}"
      ]
     },
     "execution_count": 29,
     "metadata": {},
     "output_type": "execute_result"
    }
   ],
   "source": [
    "@code_typed x + x"
   ]
  },
  {
   "cell_type": "code",
   "execution_count": 30,
   "metadata": {},
   "outputs": [
    {
     "name": "stdout",
     "output_type": "stream",
     "text": [
      "\n",
      "define void @\"julia_+_61704\"(%SArray* noalias nocapture sret, %SArray* nocapture readonly dereferenceable(16), %SArray* nocapture readonly dereferenceable(16)) #0 !dbg !5 {\n",
      "top:\n",
      "  %3 = getelementptr inbounds %SArray, %SArray* %1, i64 0, i32 0, i64 0\n",
      "  %4 = getelementptr inbounds %SArray, %SArray* %2, i64 0, i32 0, i64 0\n",
      "  %5 = load i64, i64* %3, align 8\n",
      "  %6 = load i64, i64* %4, align 8\n",
      "  %7 = add i64 %6, %5\n",
      "  %8 = getelementptr inbounds %SArray, %SArray* %1, i64 0, i32 0, i64 1\n",
      "  %9 = getelementptr inbounds %SArray, %SArray* %2, i64 0, i32 0, i64 1\n",
      "  %10 = load i64, i64* %8, align 8\n",
      "  %11 = load i64, i64* %9, align 8\n",
      "  %12 = add i64 %11, %10\n",
      "  %\"#temp#.sroa.0.sroa.0.0.#temp#.sroa.0.0..sroa_cast1.sroa_idx\" = getelementptr inbounds %SArray, %SArray* %0, i64 0, i32 0, i64 0\n",
      "  store i64 %7, i64* %\"#temp#.sroa.0.sroa.0.0.#temp#.sroa.0.0..sroa_cast1.sroa_idx\", align 8\n",
      "  %\"#temp#.sroa.0.sroa.2.0.#temp#.sroa.0.0..sroa_cast1.sroa_idx7\" = getelementptr inbounds %SArray, %SArray* %0, i64 0, i32 0, i64 1\n",
      "  store i64 %12, i64* %\"#temp#.sroa.0.sroa.2.0.#temp#.sroa.0.0..sroa_cast1.sroa_idx7\", align 8\n",
      "  ret void\n",
      "}\n"
     ]
    }
   ],
   "source": [
    "@code_llvm x + x"
   ]
  },
  {
   "cell_type": "code",
   "execution_count": 31,
   "metadata": {},
   "outputs": [
    {
     "name": "stdout",
     "output_type": "stream",
     "text": [
      "\t.section\t__TEXT,__text,regular,pure_instructions\n",
      "Filename: linalg.jl\n",
      "\tpushq\t%rbp\n",
      "\tmovq\t%rsp, %rbp\n",
      "Source line: 23\n",
      "\tmovq\t(%rdx), %rax\n",
      "\tmovq\t8(%rdx), %rcx\n",
      "\taddq\t(%rsi), %rax\n",
      "\taddq\t8(%rsi), %rcx\n",
      "Source line: 10\n",
      "\tmovq\t%rax, (%rdi)\n",
      "\tmovq\t%rcx, 8(%rdi)\n",
      "\tmovq\t%rdi, %rax\n",
      "\tpopq\t%rbp\n",
      "\tretq\n",
      "\tnop\n"
     ]
    }
   ],
   "source": [
    "@code_native x + x"
   ]
  },
  {
   "cell_type": "code",
   "execution_count": 32,
   "metadata": {},
   "outputs": [
    {
     "name": "stdout",
     "output_type": "stream",
     "text": [
      "\t.section\t__TEXT,__text,regular,pure_instructions\n",
      "Filename: arraymath.jl\n",
      "\tpushq\t%rbp\n",
      "\tmovq\t%rsp, %rbp\n",
      "\tpushq\t%r15\n",
      "\tpushq\t%r14\n",
      "\tpushq\t%r12\n",
      "\tpushq\t%rbx\n",
      "\tsubq\t$64, %rsp\n",
      "\tmovq\t%rsi, %r12\n",
      "\tmovq\t%rdi, %r15\n",
      "\tmovabsq\t$jl_get_ptls_states_fast, %rax\n",
      "\tcallq\t*%rax\n",
      "\tmovq\t%rax, %r14\n",
      "\tmovq\t$0, -40(%rbp)\n",
      "\tmovq\t$0, -48(%rbp)\n",
      "\tmovq\t$4, -64(%rbp)\n",
      "\tmovq\t(%r14), %rax\n",
      "\tmovq\t%rax, -56(%rbp)\n",
      "\tleaq\t-64(%rbp), %rax\n",
      "\tmovq\t%rax, (%r14)\n",
      "Source line: 64\n",
      "\tmovq\t24(%r15), %rax\n",
      "Source line: 64\n",
      "\tmovq\t24(%r12), %rcx\n",
      "\txorl\t%ebx, %ebx\n",
      "Source line: 37\n",
      "\ttestq\t%rax, %rax\n",
      "\tcmovsq\t%rbx, %rax\n",
      "\tmovq\t%rax, -72(%rbp)\n",
      "\ttestq\t%rcx, %rcx\n",
      "\tcmovsq\t%rbx, %rcx\n",
      "\tmovq\t%rcx, -80(%rbp)\n",
      "\tmovabsq\t$promote_shape, %rax\n",
      "\tleaq\t-72(%rbp), %rdi\n",
      "\tleaq\t-80(%rbp), %rsi\n",
      "\tcallq\t*%rax\n",
      "Source line: 64\n",
      "\tmovq\t24(%r15), %rax\n",
      "Source line: 64\n",
      "\tmovq\t24(%r12), %rcx\n",
      "Source line: 63\n",
      "\ttestq\t%rax, %rax\n",
      "\tcmovsq\t%rbx, %rax\n",
      "\tmovq\t%rax, -88(%rbp)\n",
      "\ttestq\t%rcx, %rcx\n",
      "\tcmovsq\t%rbx, %rcx\n",
      "\tmovq\t%rcx, -96(%rbp)\n",
      "\tmovabsq\t$_bcs1, %rax\n",
      "\tleaq\t-88(%rbp), %rdi\n",
      "\tleaq\t-96(%rbp), %rsi\n",
      "\tcallq\t*%rax\n",
      "\tmovq\t%rax, %rbx\n",
      "Source line: 266\n",
      "\tmovabsq\t$jl_alloc_array_1d, %rax\n",
      "\tleaq\t95008608(%rax), %rdi\n",
      "\tmovq\t%rbx, %rsi\n",
      "\tcallq\t*%rax\n",
      "\tmovq\t%rax, -48(%rbp)\n",
      "Source line: 68\n",
      "\ttestq\t%rbx, %rbx\n",
      "\tjle\tL822\n",
      "Source line: 151\n",
      "\tmovq\t(%r12), %r10\n",
      "Source line: 64\n",
      "\tmovq\t24(%r12), %rcx\n",
      "\txorl\t%edx, %edx\n",
      "Source line: 111\n",
      "\ttestq\t%rcx, %rcx\n",
      "\tcmovsq\t%rdx, %rcx\n",
      "Source line: 151\n",
      "\tmovq\t(%r15), %r11\n",
      "Source line: 64\n",
      "\tmovq\t24(%r15), %rsi\n",
      "Source line: 111\n",
      "\ttestq\t%rsi, %rsi\n",
      "\tcmovsq\t%rdx, %rsi\n",
      "Source line: 126\n",
      "\tcmpq\t%rsi, %rbx\n",
      "Source line: 247\n",
      "\tmovq\t(%rax), %r8\n",
      "\tjne\tL415\n",
      "\tcmpq\t%rcx, %rbx\n",
      "\tjne\tL571\n",
      "\txorl\t%esi, %esi\n",
      "Source line: 151\n",
      "\tcmpq\t$4, %rbx\n",
      "\tjb\tL369\n",
      "\txorl\t%esi, %esi\n",
      "\tmovq\t%rbx, %r9\n",
      "\tandq\t$-4, %r9\n",
      "\tje\tL369\n",
      "\tleaq\t16(%r11), %rsi\n",
      "\tleaq\t16(%r10), %rdi\n",
      "\tleaq\t16(%r8), %rcx\n",
      "Source line: 74\n",
      "\tmovq\t%r9, %rdx\n",
      "\tnop\n",
      "Source line: 151\n",
      "L304:\n",
      "\tmovdqu\t-16(%rsi), %xmm0\n",
      "\tmovdqu\t(%rsi), %xmm1\n",
      "\tmovdqu\t-16(%rdi), %xmm2\n",
      "\tmovdqu\t(%rdi), %xmm3\n",
      "Source line: 153\n",
      "\tpaddq\t%xmm0, %xmm2\n",
      "\tpaddq\t%xmm1, %xmm3\n",
      "Source line: 247\n",
      "\tmovdqu\t%xmm2, -16(%rcx)\n",
      "\tmovdqu\t%xmm3, (%rcx)\n",
      "Source line: 151\n",
      "\taddq\t$32, %rsi\n",
      "\taddq\t$32, %rdi\n",
      "\taddq\t$32, %rcx\n",
      "\taddq\t$-4, %rdx\n",
      "\tjne\tL304\n",
      "\tcmpq\t%r9, %rbx\n",
      "\tmovq\t%r9, %rsi\n",
      "\tje\tL818\n",
      "L369:\n",
      "\tleaq\t(%r10,%rsi,8), %rcx\n",
      "\tsubq\t%rsi, %rbx\n",
      "\tleaq\t(%r8,%rsi,8), %rdx\n",
      "\tleaq\t(%r11,%rsi,8), %rsi\n",
      "L384:\n",
      "\tmovq\t(%rcx), %rdi\n",
      "Source line: 153\n",
      "\taddq\t(%rsi), %rdi\n",
      "Source line: 247\n",
      "\tmovq\t%rdi, (%rdx)\n",
      "Source line: 71\n",
      "\taddq\t$8, %rcx\n",
      "\taddq\t$8, %rdx\n",
      "\taddq\t$8, %rsi\n",
      "\tdecq\t%rbx\n",
      "\tjne\tL384\n",
      "\tjmp\tL818\n",
      "L415:\n",
      "\txorl\t%edx, %edx\n",
      "\tcmpq\t%rcx, %rbx\n",
      "\tjne\tL712\n",
      "Source line: 151\n",
      "\tcmpq\t$4, %rbx\n",
      "\tjb\tL526\n",
      "\txorl\t%edx, %edx\n",
      "\tmovq\t%rbx, %rdi\n",
      "\tandq\t$-4, %rdi\n",
      "\tje\tL526\n",
      "\tleaq\t16(%r10), %rcx\n",
      "\tleaq\t16(%r8), %rdx\n",
      "Source line: 74\n",
      "\tmovq\t%rdi, %rsi\n",
      "\tnopw\t%cs:(%rax,%rax)\n",
      "Source line: 151\n",
      "L464:\n",
      "\tmovq\t(%r11), %xmm0           ## xmm0 = mem[0],zero\n",
      "\tpshufd\t$68, %xmm0, %xmm0       ## xmm0 = xmm0[0,1,0,1]\n",
      "\tmovdqu\t-16(%rcx), %xmm1\n",
      "\tmovdqu\t(%rcx), %xmm2\n",
      "Source line: 153\n",
      "\tpaddq\t%xmm0, %xmm1\n",
      "\tpaddq\t%xmm0, %xmm2\n",
      "Source line: 247\n",
      "\tmovdqu\t%xmm1, -16(%rdx)\n",
      "\tmovdqu\t%xmm2, (%rdx)\n",
      "Source line: 151\n",
      "\taddq\t$32, %rcx\n",
      "\taddq\t$32, %rdx\n",
      "\taddq\t$-4, %rsi\n",
      "\tjne\tL464\n",
      "\tcmpq\t%rdi, %rbx\n",
      "\tmovq\t%rdi, %rdx\n",
      "\tje\tL818\n",
      "L526:\n",
      "\tleaq\t(%r10,%rdx,8), %rcx\n",
      "\tsubq\t%rdx, %rbx\n",
      "\tleaq\t(%r8,%rdx,8), %rdx\n",
      "\tnopl\t(%rax)\n",
      "L544:\n",
      "\tmovq\t(%rcx), %rsi\n",
      "Source line: 153\n",
      "\taddq\t(%r11), %rsi\n",
      "Source line: 247\n",
      "\tmovq\t%rsi, (%rdx)\n",
      "Source line: 71\n",
      "\taddq\t$8, %rcx\n",
      "\taddq\t$8, %rdx\n",
      "\tdecq\t%rbx\n",
      "\tjne\tL544\n",
      "\tjmp\tL818\n",
      "L571:\n",
      "\txorl\t%edx, %edx\n",
      "Source line: 151\n",
      "\tcmpq\t$4, %rbx\n",
      "\tjb\tL670\n",
      "\txorl\t%edx, %edx\n",
      "\tmovq\t%rbx, %rdi\n",
      "\tandq\t$-4, %rdi\n",
      "\tje\tL670\n",
      "\tleaq\t16(%r11), %rcx\n",
      "\tleaq\t16(%r8), %rdx\n",
      "Source line: 74\n",
      "\tmovq\t%rdi, %rsi\n",
      "\tnopl\t(%rax)\n",
      "Source line: 151\n",
      "L608:\n",
      "\tmovdqu\t-16(%rcx), %xmm0\n",
      "\tmovdqu\t(%rcx), %xmm1\n",
      "\tmovq\t(%r10), %xmm2           ## xmm2 = mem[0],zero\n",
      "\tpshufd\t$68, %xmm2, %xmm2       ## xmm2 = xmm2[0,1,0,1]\n",
      "Source line: 153\n",
      "\tpaddq\t%xmm2, %xmm0\n",
      "\tpaddq\t%xmm2, %xmm1\n",
      "Source line: 247\n",
      "\tmovdqu\t%xmm0, -16(%rdx)\n",
      "\tmovdqu\t%xmm1, (%rdx)\n",
      "Source line: 151\n",
      "\taddq\t$32, %rcx\n",
      "\taddq\t$32, %rdx\n",
      "\taddq\t$-4, %rsi\n",
      "\tjne\tL608\n",
      "\tcmpq\t%rdi, %rbx\n",
      "\tmovq\t%rdi, %rdx\n",
      "\tje\tL818\n",
      "L670:\n",
      "\tleaq\t(%r11,%rdx,8), %rcx\n",
      "\tsubq\t%rdx, %rbx\n",
      "\tleaq\t(%r8,%rdx,8), %rdx\n",
      "\tnopl\t(%rax)\n",
      "L688:\n",
      "\tmovq\t(%r10), %rsi\n",
      "Source line: 153\n",
      "\taddq\t(%rcx), %rsi\n",
      "Source line: 247\n",
      "\tmovq\t%rsi, (%rdx)\n",
      "Source line: 71\n",
      "\taddq\t$8, %rcx\n",
      "\taddq\t$8, %rdx\n",
      "\tdecq\t%rbx\n",
      "\tjne\tL688\n",
      "\tjmp\tL818\n",
      "Source line: 151\n",
      "L712:\n",
      "\tcmpq\t$4, %rbx\n",
      "\tjb\tL787\n",
      "\txorl\t%edx, %edx\n",
      "\tmovq\t%rbx, %rcx\n",
      "\tandq\t$-4, %rcx\n",
      "\tje\tL787\n",
      "\tleaq\t16(%r8), %rdx\n",
      "Source line: 74\n",
      "\tmovq\t%rcx, %rsi\n",
      "Source line: 151\n",
      "L736:\n",
      "\tmovq\t(%r11), %xmm0           ## xmm0 = mem[0],zero\n",
      "\tpshufd\t$68, %xmm0, %xmm0       ## xmm0 = xmm0[0,1,0,1]\n",
      "\tmovq\t(%r10), %xmm1           ## xmm1 = mem[0],zero\n",
      "\tpshufd\t$68, %xmm1, %xmm1       ## xmm1 = xmm1[0,1,0,1]\n",
      "Source line: 153\n",
      "\tpaddq\t%xmm0, %xmm1\n",
      "Source line: 247\n",
      "\tmovdqu\t%xmm1, -16(%rdx)\n",
      "\tmovdqu\t%xmm1, (%rdx)\n",
      "Source line: 151\n",
      "\taddq\t$32, %rdx\n",
      "\taddq\t$-4, %rsi\n",
      "\tjne\tL736\n",
      "\tcmpq\t%rcx, %rbx\n",
      "\tmovq\t%rcx, %rdx\n",
      "\tje\tL818\n",
      "L787:\n",
      "\tsubq\t%rdx, %rbx\n",
      "\tleaq\t(%r8,%rdx,8), %rcx\n",
      "\tnopw\t(%rax,%rax)\n",
      "L800:\n",
      "\tmovq\t(%r10), %rdx\n",
      "Source line: 153\n",
      "\taddq\t(%r11), %rdx\n",
      "Source line: 247\n",
      "\tmovq\t%rdx, (%rcx)\n",
      "Source line: 71\n",
      "\taddq\t$8, %rcx\n",
      "\tdecq\t%rbx\n",
      "\tjne\tL800\n",
      "Source line: 247\n",
      "L818:\n",
      "\tmovq\t%rax, -40(%rbp)\n",
      "Source line: 38\n",
      "L822:\n",
      "\tmovq\t-56(%rbp), %rcx\n",
      "\tmovq\t%rcx, (%r14)\n",
      "\taddq\t$64, %rsp\n",
      "\tpopq\t%rbx\n",
      "\tpopq\t%r12\n",
      "\tpopq\t%r14\n",
      "\tpopq\t%r15\n",
      "\tpopq\t%rbp\n",
      "\tretq\n",
      "\tnopw\t(%rax,%rax)\n"
     ]
    }
   ],
   "source": [
    "y = [1, 2]\n",
    "@code_native y + y"
   ]
  }
 ],
 "metadata": {
  "kernelspec": {
   "display_name": "Julia 0.6.0",
   "language": "julia",
   "name": "julia-0.6"
  },
  "language_info": {
   "file_extension": ".jl",
   "mimetype": "application/julia",
   "name": "julia",
   "version": "0.6.0"
  },
  "toc": {
   "colors": {
    "hover_highlight": "#DAA520",
    "running_highlight": "#FF0000",
    "selected_highlight": "#FFD700"
   },
   "moveMenuLeft": true,
   "nav_menu": {
    "height": "85px",
    "width": "252px"
   },
   "navigate_menu": true,
   "number_sections": true,
   "sideBar": true,
   "threshold": "2",
   "toc_cell": false,
   "toc_section_display": "block",
   "toc_window_display": false
  }
 },
 "nbformat": 4,
 "nbformat_minor": 2
}
